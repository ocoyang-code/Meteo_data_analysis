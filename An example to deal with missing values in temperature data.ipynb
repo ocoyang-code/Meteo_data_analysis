{
 "cells": [
  {
   "cell_type": "code",
   "execution_count": 1,
   "metadata": {},
   "outputs": [],
   "source": [
    "#loading libraries\n",
    "import numpy as np\n",
    "import pandas as pd\n",
    "import datetime as dt\n",
    "import matplotlib.pyplot as plt\n",
    "import warnings\n",
    "\n",
    "warnings.filterwarnings('ignore')"
   ]
  },
  {
   "cell_type": "code",
   "execution_count": 2,
   "metadata": {},
   "outputs": [],
   "source": [
    "#loading data\n",
    "meteo_min = pd.read_csv('./data/meteo_min.csv', sep=',', header=0)"
   ]
  },
  {
   "cell_type": "code",
   "execution_count": 3,
   "metadata": {
    "scrolled": true
   },
   "outputs": [
    {
     "data": {
      "text/html": [
       "<div>\n",
       "<style scoped>\n",
       "    .dataframe tbody tr th:only-of-type {\n",
       "        vertical-align: middle;\n",
       "    }\n",
       "\n",
       "    .dataframe tbody tr th {\n",
       "        vertical-align: top;\n",
       "    }\n",
       "\n",
       "    .dataframe thead th {\n",
       "        text-align: right;\n",
       "    }\n",
       "</style>\n",
       "<table border=\"1\" class=\"dataframe\">\n",
       "  <thead>\n",
       "    <tr style=\"text-align: right;\">\n",
       "      <th></th>\n",
       "      <th>Product code</th>\n",
       "      <th>Bureau of Meteorology station number</th>\n",
       "      <th>Year</th>\n",
       "      <th>Month</th>\n",
       "      <th>Day</th>\n",
       "      <th>Minimum temperature (Degree C)</th>\n",
       "      <th>Days of accumulation of minimum temperature</th>\n",
       "      <th>Quality</th>\n",
       "    </tr>\n",
       "  </thead>\n",
       "  <tbody>\n",
       "    <tr>\n",
       "      <th>0</th>\n",
       "      <td>IDCJAC0011</td>\n",
       "      <td>87031</td>\n",
       "      <td>1943</td>\n",
       "      <td>1</td>\n",
       "      <td>1</td>\n",
       "      <td>NaN</td>\n",
       "      <td>NaN</td>\n",
       "      <td>NaN</td>\n",
       "    </tr>\n",
       "    <tr>\n",
       "      <th>1</th>\n",
       "      <td>IDCJAC0011</td>\n",
       "      <td>87031</td>\n",
       "      <td>1943</td>\n",
       "      <td>1</td>\n",
       "      <td>2</td>\n",
       "      <td>NaN</td>\n",
       "      <td>NaN</td>\n",
       "      <td>NaN</td>\n",
       "    </tr>\n",
       "    <tr>\n",
       "      <th>2</th>\n",
       "      <td>IDCJAC0011</td>\n",
       "      <td>87031</td>\n",
       "      <td>1943</td>\n",
       "      <td>1</td>\n",
       "      <td>3</td>\n",
       "      <td>NaN</td>\n",
       "      <td>NaN</td>\n",
       "      <td>NaN</td>\n",
       "    </tr>\n",
       "    <tr>\n",
       "      <th>3</th>\n",
       "      <td>IDCJAC0011</td>\n",
       "      <td>87031</td>\n",
       "      <td>1943</td>\n",
       "      <td>1</td>\n",
       "      <td>4</td>\n",
       "      <td>NaN</td>\n",
       "      <td>NaN</td>\n",
       "      <td>NaN</td>\n",
       "    </tr>\n",
       "    <tr>\n",
       "      <th>4</th>\n",
       "      <td>IDCJAC0011</td>\n",
       "      <td>87031</td>\n",
       "      <td>1943</td>\n",
       "      <td>1</td>\n",
       "      <td>5</td>\n",
       "      <td>NaN</td>\n",
       "      <td>NaN</td>\n",
       "      <td>NaN</td>\n",
       "    </tr>\n",
       "  </tbody>\n",
       "</table>\n",
       "</div>"
      ],
      "text/plain": [
       "  Product code  Bureau of Meteorology station number  Year  Month  Day  \\\n",
       "0   IDCJAC0011                                 87031  1943      1    1   \n",
       "1   IDCJAC0011                                 87031  1943      1    2   \n",
       "2   IDCJAC0011                                 87031  1943      1    3   \n",
       "3   IDCJAC0011                                 87031  1943      1    4   \n",
       "4   IDCJAC0011                                 87031  1943      1    5   \n",
       "\n",
       "   Minimum temperature (Degree C)  \\\n",
       "0                             NaN   \n",
       "1                             NaN   \n",
       "2                             NaN   \n",
       "3                             NaN   \n",
       "4                             NaN   \n",
       "\n",
       "   Days of accumulation of minimum temperature Quality  \n",
       "0                                          NaN     NaN  \n",
       "1                                          NaN     NaN  \n",
       "2                                          NaN     NaN  \n",
       "3                                          NaN     NaN  \n",
       "4                                          NaN     NaN  "
      ]
     },
     "execution_count": 3,
     "metadata": {},
     "output_type": "execute_result"
    }
   ],
   "source": [
    "meteo_min.head()"
   ]
  },
  {
   "cell_type": "code",
   "execution_count": 4,
   "metadata": {},
   "outputs": [],
   "source": [
    "#define the column names of the data\n",
    "column_names = ['code', 'snumb', 'year', 'month', 'day', 'mint', 'durc', 'quality']\n",
    "meteo_min.columns = column_names"
   ]
  },
  {
   "cell_type": "code",
   "execution_count": 5,
   "metadata": {},
   "outputs": [],
   "source": [
    "#retrieve data of three attributes with indices 2,3,4,5\n",
    "meteo_min = meteo_min.iloc[:, [2,3,4,5]]"
   ]
  },
  {
   "cell_type": "code",
   "execution_count": 6,
   "metadata": {},
   "outputs": [
    {
     "data": {
      "text/html": [
       "<div>\n",
       "<style scoped>\n",
       "    .dataframe tbody tr th:only-of-type {\n",
       "        vertical-align: middle;\n",
       "    }\n",
       "\n",
       "    .dataframe tbody tr th {\n",
       "        vertical-align: top;\n",
       "    }\n",
       "\n",
       "    .dataframe thead th {\n",
       "        text-align: right;\n",
       "    }\n",
       "</style>\n",
       "<table border=\"1\" class=\"dataframe\">\n",
       "  <thead>\n",
       "    <tr style=\"text-align: right;\">\n",
       "      <th></th>\n",
       "      <th>year</th>\n",
       "      <th>month</th>\n",
       "      <th>day</th>\n",
       "      <th>mint</th>\n",
       "    </tr>\n",
       "  </thead>\n",
       "  <tbody>\n",
       "    <tr>\n",
       "      <th>0</th>\n",
       "      <td>1943</td>\n",
       "      <td>1</td>\n",
       "      <td>1</td>\n",
       "      <td>NaN</td>\n",
       "    </tr>\n",
       "    <tr>\n",
       "      <th>1</th>\n",
       "      <td>1943</td>\n",
       "      <td>1</td>\n",
       "      <td>2</td>\n",
       "      <td>NaN</td>\n",
       "    </tr>\n",
       "    <tr>\n",
       "      <th>2</th>\n",
       "      <td>1943</td>\n",
       "      <td>1</td>\n",
       "      <td>3</td>\n",
       "      <td>NaN</td>\n",
       "    </tr>\n",
       "    <tr>\n",
       "      <th>3</th>\n",
       "      <td>1943</td>\n",
       "      <td>1</td>\n",
       "      <td>4</td>\n",
       "      <td>NaN</td>\n",
       "    </tr>\n",
       "    <tr>\n",
       "      <th>4</th>\n",
       "      <td>1943</td>\n",
       "      <td>1</td>\n",
       "      <td>5</td>\n",
       "      <td>NaN</td>\n",
       "    </tr>\n",
       "  </tbody>\n",
       "</table>\n",
       "</div>"
      ],
      "text/plain": [
       "   year  month  day  mint\n",
       "0  1943      1    1   NaN\n",
       "1  1943      1    2   NaN\n",
       "2  1943      1    3   NaN\n",
       "3  1943      1    4   NaN\n",
       "4  1943      1    5   NaN"
      ]
     },
     "execution_count": 6,
     "metadata": {},
     "output_type": "execute_result"
    }
   ],
   "source": [
    "meteo_min.head()"
   ]
  },
  {
   "cell_type": "code",
   "execution_count": 7,
   "metadata": {},
   "outputs": [],
   "source": [
    "#append a new attribute \"date\" to the data\n",
    "meteo_min['date'] = [np.datetime64(dt.datetime(meteo_min.iloc[i,0],\n",
    "                                  meteo_min.iloc[i, 1],\n",
    "                                  meteo_min.iloc[i, 2]))\n",
    "                    for i in range(0, len(meteo_min))]"
   ]
  },
  {
   "cell_type": "code",
   "execution_count": 8,
   "metadata": {},
   "outputs": [
    {
     "data": {
      "text/html": [
       "<div>\n",
       "<style scoped>\n",
       "    .dataframe tbody tr th:only-of-type {\n",
       "        vertical-align: middle;\n",
       "    }\n",
       "\n",
       "    .dataframe tbody tr th {\n",
       "        vertical-align: top;\n",
       "    }\n",
       "\n",
       "    .dataframe thead th {\n",
       "        text-align: right;\n",
       "    }\n",
       "</style>\n",
       "<table border=\"1\" class=\"dataframe\">\n",
       "  <thead>\n",
       "    <tr style=\"text-align: right;\">\n",
       "      <th></th>\n",
       "      <th>year</th>\n",
       "      <th>month</th>\n",
       "      <th>day</th>\n",
       "      <th>mint</th>\n",
       "      <th>date</th>\n",
       "    </tr>\n",
       "  </thead>\n",
       "  <tbody>\n",
       "    <tr>\n",
       "      <th>0</th>\n",
       "      <td>1943</td>\n",
       "      <td>1</td>\n",
       "      <td>1</td>\n",
       "      <td>NaN</td>\n",
       "      <td>1943-01-01</td>\n",
       "    </tr>\n",
       "    <tr>\n",
       "      <th>1</th>\n",
       "      <td>1943</td>\n",
       "      <td>1</td>\n",
       "      <td>2</td>\n",
       "      <td>NaN</td>\n",
       "      <td>1943-01-02</td>\n",
       "    </tr>\n",
       "    <tr>\n",
       "      <th>2</th>\n",
       "      <td>1943</td>\n",
       "      <td>1</td>\n",
       "      <td>3</td>\n",
       "      <td>NaN</td>\n",
       "      <td>1943-01-03</td>\n",
       "    </tr>\n",
       "    <tr>\n",
       "      <th>3</th>\n",
       "      <td>1943</td>\n",
       "      <td>1</td>\n",
       "      <td>4</td>\n",
       "      <td>NaN</td>\n",
       "      <td>1943-01-04</td>\n",
       "    </tr>\n",
       "    <tr>\n",
       "      <th>4</th>\n",
       "      <td>1943</td>\n",
       "      <td>1</td>\n",
       "      <td>5</td>\n",
       "      <td>NaN</td>\n",
       "      <td>1943-01-05</td>\n",
       "    </tr>\n",
       "  </tbody>\n",
       "</table>\n",
       "</div>"
      ],
      "text/plain": [
       "   year  month  day  mint       date\n",
       "0  1943      1    1   NaN 1943-01-01\n",
       "1  1943      1    2   NaN 1943-01-02\n",
       "2  1943      1    3   NaN 1943-01-03\n",
       "3  1943      1    4   NaN 1943-01-04\n",
       "4  1943      1    5   NaN 1943-01-05"
      ]
     },
     "execution_count": 8,
     "metadata": {},
     "output_type": "execute_result"
    }
   ],
   "source": [
    "meteo_min.head()"
   ]
  },
  {
   "cell_type": "code",
   "execution_count": 9,
   "metadata": {},
   "outputs": [],
   "source": [
    "#select the data from 1968-7-1 to 2018-6-30\n",
    "#define the start date as a datetime variable\n",
    "start_date = dt.datetime(year = 1968, month = 7, day = 1)\n",
    "#define the end date as a datetime variable\n",
    "end_date = dt.datetime(year = 2018, month = 6, day = 30)\n",
    "#the index of the start date in the meteo_min data\n",
    "isd = meteo_min[meteo_min['date'] == np.datetime64(start_date)].index.item()\n",
    "#the index of the end date in the meteo_min data\n",
    "esd = meteo_min[meteo_min['date'] == np.datetime64(end_date)].index.item()\n",
    "#retrieve the data during 1968-7-1 and 2018-6-30\n",
    "temp_min = meteo_min.iloc[isd:esd + 1, [3,4]]\n",
    "#set the index of the data with the date attribute\n",
    "temp_min.index = temp_min.date"
   ]
  },
  {
   "cell_type": "code",
   "execution_count": 10,
   "metadata": {},
   "outputs": [
    {
     "data": {
      "text/html": [
       "<div>\n",
       "<style scoped>\n",
       "    .dataframe tbody tr th:only-of-type {\n",
       "        vertical-align: middle;\n",
       "    }\n",
       "\n",
       "    .dataframe tbody tr th {\n",
       "        vertical-align: top;\n",
       "    }\n",
       "\n",
       "    .dataframe thead th {\n",
       "        text-align: right;\n",
       "    }\n",
       "</style>\n",
       "<table border=\"1\" class=\"dataframe\">\n",
       "  <thead>\n",
       "    <tr style=\"text-align: right;\">\n",
       "      <th></th>\n",
       "      <th>mint</th>\n",
       "      <th>date</th>\n",
       "    </tr>\n",
       "    <tr>\n",
       "      <th>date</th>\n",
       "      <th></th>\n",
       "      <th></th>\n",
       "    </tr>\n",
       "  </thead>\n",
       "  <tbody>\n",
       "    <tr>\n",
       "      <th>1968-07-01</th>\n",
       "      <td>1.6</td>\n",
       "      <td>1968-07-01</td>\n",
       "    </tr>\n",
       "    <tr>\n",
       "      <th>1968-07-02</th>\n",
       "      <td>2.3</td>\n",
       "      <td>1968-07-02</td>\n",
       "    </tr>\n",
       "    <tr>\n",
       "      <th>1968-07-03</th>\n",
       "      <td>5.0</td>\n",
       "      <td>1968-07-03</td>\n",
       "    </tr>\n",
       "    <tr>\n",
       "      <th>1968-07-04</th>\n",
       "      <td>7.6</td>\n",
       "      <td>1968-07-04</td>\n",
       "    </tr>\n",
       "    <tr>\n",
       "      <th>1968-07-05</th>\n",
       "      <td>8.4</td>\n",
       "      <td>1968-07-05</td>\n",
       "    </tr>\n",
       "  </tbody>\n",
       "</table>\n",
       "</div>"
      ],
      "text/plain": [
       "            mint       date\n",
       "date                       \n",
       "1968-07-01   1.6 1968-07-01\n",
       "1968-07-02   2.3 1968-07-02\n",
       "1968-07-03   5.0 1968-07-03\n",
       "1968-07-04   7.6 1968-07-04\n",
       "1968-07-05   8.4 1968-07-05"
      ]
     },
     "execution_count": 10,
     "metadata": {},
     "output_type": "execute_result"
    }
   ],
   "source": [
    "temp_min.head()"
   ]
  },
  {
   "cell_type": "code",
   "execution_count": 11,
   "metadata": {},
   "outputs": [
    {
     "data": {
      "text/plain": [
       "Text(0, 0.5, 'Minimum temperature $(^oC)$')"
      ]
     },
     "execution_count": 11,
     "metadata": {},
     "output_type": "execute_result"
    },
    {
     "data": {
      "image/png": "[encoded data removed]",
      "text/plain": [
       "<Figure size 432x288 with 1 Axes>"
      ]
     },
     "metadata": {
      "needs_background": "light"
     },
     "output_type": "display_data"
    }
   ],
   "source": [
    "#plot the temporal change of the minimum temperature\n",
    "fg = plt.figure()\n",
    "plt.plot(temp_min.mint, lw = 0.5, color = 'gray')\n",
    "plt.xlabel('Date')\n",
    "plt.ylabel(\"Minimum temperature \"r\"$(^oC)$\")"
   ]
  },
  {
   "cell_type": "code",
   "execution_count": 12,
   "metadata": {},
   "outputs": [
    {
     "name": "stdout",
     "output_type": "stream",
     "text": [
      "The number of null values is 20\n"
     ]
    }
   ],
   "source": [
    "#check how many null values in this data\n",
    "print('The number of null values is {0}'.format(sum(temp_min.mint.isna())))"
   ]
  },
  {
   "cell_type": "code",
   "execution_count": 13,
   "metadata": {},
   "outputs": [],
   "source": [
    "#get the indices of the null values in the data\n",
    "na_index = temp_min.index[temp_min.mint.isna()]"
   ]
  },
  {
   "cell_type": "code",
   "execution_count": 14,
   "metadata": {},
   "outputs": [
    {
     "data": {
      "text/plain": [
       "DatetimeIndex(['1983-09-23', '1994-02-27', '1994-11-23', '1995-05-09',\n",
       "               '1999-12-12', '2000-01-21', '2000-09-01', '2000-11-09',\n",
       "               '2000-12-14', '2000-12-23', '2000-12-24', '2001-12-20',\n",
       "               '2002-02-07', '2003-03-30', '2003-06-25', '2011-02-05',\n",
       "               '2011-02-06', '2011-02-07', '2011-02-08', '2017-03-20'],\n",
       "              dtype='datetime64[ns]', name='date', freq=None)"
      ]
     },
     "execution_count": 14,
     "metadata": {},
     "output_type": "execute_result"
    }
   ],
   "source": [
    "na_index"
   ]
  },
  {
   "cell_type": "code",
   "execution_count": 15,
   "metadata": {},
   "outputs": [
    {
     "data": {
      "text/plain": [
       "2000    6\n",
       "2011    4\n",
       "2003    2\n",
       "1994    2\n",
       "1983    1\n",
       "2002    1\n",
       "2001    1\n",
       "1999    1\n",
       "1995    1\n",
       "2017    1\n",
       "Name: date, dtype: int64"
      ]
     },
     "execution_count": 15,
     "metadata": {},
     "output_type": "execute_result"
    }
   ],
   "source": [
    "#which year has null values and how many of them in each year\n",
    "na_index.year.value_counts()"
   ]
  },
  {
   "cell_type": "code",
   "execution_count": 16,
   "metadata": {},
   "outputs": [
    {
     "data": {
      "text/plain": [
       "2     6\n",
       "12    5\n",
       "11    2\n",
       "9     2\n",
       "3     2\n",
       "6     1\n",
       "5     1\n",
       "1     1\n",
       "Name: date, dtype: int64"
      ]
     },
     "execution_count": 16,
     "metadata": {},
     "output_type": "execute_result"
    }
   ],
   "source": [
    "#how many null values in the month that contains null values\n",
    "na_index.month.value_counts()"
   ]
  },
  {
   "cell_type": "code",
   "execution_count": 17,
   "metadata": {},
   "outputs": [],
   "source": [
    "#chose two examples\n",
    "na_index_sub = na_index[[0, 16]]"
   ]
  },
  {
   "cell_type": "code",
   "execution_count": 18,
   "metadata": {},
   "outputs": [
    {
     "data": {
      "text/plain": [
       "DatetimeIndex(['1983-09-23', '2011-02-06'], dtype='datetime64[ns]', name='date', freq=None)"
      ]
     },
     "execution_count": 18,
     "metadata": {},
     "output_type": "execute_result"
    }
   ],
   "source": [
    "na_index_sub"
   ]
  },
  {
   "cell_type": "code",
   "execution_count": 19,
   "metadata": {},
   "outputs": [],
   "source": [
    "#get a block of data that contains null values\n",
    "mint_na_subs = []\n",
    "for ech in na_index_sub:\n",
    "    #start index of the block, changed to timestamp datatype\n",
    "    vs_ei = dt.datetime.utcfromtimestamp(\n",
    "        ech.timestamp() - 3600*24*5)\n",
    "    #end index of the block, changed to timestamp datatype\n",
    "    ve_ei = dt.datetime.utcfromtimestamp(\n",
    "        ech.timestamp() + 3600*24*5)\n",
    "    #min temperature in the range\n",
    "    tmp = temp_min.mint[vs_ei:ve_ei]\n",
    "    #append the data into mint_na_subs\n",
    "    mint_na_subs.append(tmp)"
   ]
  },
  {
   "cell_type": "code",
   "execution_count": 20,
   "metadata": {},
   "outputs": [
    {
     "name": "stdout",
     "output_type": "stream",
     "text": [
      "----------------block #0----------------\n",
      "            original_data  filled_data\n",
      "date                                  \n",
      "1983-09-18            4.6          4.6\n",
      "1983-09-19           10.1         10.1\n",
      "1983-09-20           11.0         11.0\n",
      "1983-09-21            6.2          6.2\n",
      "1983-09-22            5.2          5.2\n",
      "1983-09-23            NaN          5.2\n",
      "1983-09-24            5.2          5.2\n",
      "1983-09-25            3.7          3.7\n",
      "1983-09-26            0.9          0.9\n",
      "1983-09-27            7.1          7.1\n",
      "1983-09-28           13.9         13.9\n",
      "\n",
      "----------------block #1----------------\n",
      "            original_data  filled_data\n",
      "date                                  \n",
      "2011-02-01           21.8         21.8\n",
      "2011-02-02           17.0         17.0\n",
      "2011-02-03           17.4         17.4\n",
      "2011-02-04           17.4         17.4\n",
      "2011-02-05            NaN         17.4\n",
      "2011-02-06            NaN         17.4\n",
      "2011-02-07            NaN         17.4\n",
      "2011-02-08            NaN         17.4\n",
      "2011-02-09           10.9         10.9\n",
      "2011-02-10           15.0         15.0\n",
      "2011-02-11           20.2         20.2\n",
      "\n"
     ]
    }
   ],
   "source": [
    "#fill the missing values with the temperature of previous day\n",
    "for i in range(0, len(mint_na_subs)):\n",
    "    res = pd.DataFrame();\n",
    "    data = mint_na_subs[i]\n",
    "    filled_data = data.fillna(method = 'pad')\n",
    "    print('----------------block #{0}----------------'.format(i))\n",
    "    res['original_data'] = data\n",
    "    res['filled_data'] = filled_data\n",
    "    print(res)\n",
    "    print()\n",
    "    "
   ]
  },
  {
   "cell_type": "code",
   "execution_count": 21,
   "metadata": {},
   "outputs": [
    {
     "name": "stdout",
     "output_type": "stream",
     "text": [
      "----------------block #0----------------\n",
      "            original_data  filled_data\n",
      "date                                  \n",
      "1983-09-18            4.6          4.6\n",
      "1983-09-19           10.1         10.1\n",
      "1983-09-20           11.0         11.0\n",
      "1983-09-21            6.2          6.2\n",
      "1983-09-22            5.2          5.2\n",
      "1983-09-23            NaN          5.2\n",
      "1983-09-24            5.2          5.2\n",
      "1983-09-25            3.7          3.7\n",
      "1983-09-26            0.9          0.9\n",
      "1983-09-27            7.1          7.1\n",
      "1983-09-28           13.9         13.9\n",
      "\n",
      "----------------block #1----------------\n",
      "            original_data  filled_data\n",
      "date                                  \n",
      "2011-02-01           21.8         21.8\n",
      "2011-02-02           17.0         17.0\n",
      "2011-02-03           17.4         17.4\n",
      "2011-02-04           17.4         17.4\n",
      "2011-02-05            NaN         10.9\n",
      "2011-02-06            NaN         10.9\n",
      "2011-02-07            NaN         10.9\n",
      "2011-02-08            NaN         10.9\n",
      "2011-02-09           10.9         10.9\n",
      "2011-02-10           15.0         15.0\n",
      "2011-02-11           20.2         20.2\n",
      "\n"
     ]
    }
   ],
   "source": [
    "#fill the missing values with the temperature of next day\n",
    "for i in range(0, len(mint_na_subs)):\n",
    "    res = pd.DataFrame();\n",
    "    data = mint_na_subs[i]\n",
    "    filled_data = data.fillna(method = 'bfill')\n",
    "    print('----------------block #{0}----------------'.format(i))\n",
    "    res['original_data'] = data\n",
    "    res['filled_data'] = filled_data\n",
    "    print(res)\n",
    "    print()"
   ]
  },
  {
   "cell_type": "code",
   "execution_count": 22,
   "metadata": {},
   "outputs": [
    {
     "name": "stdout",
     "output_type": "stream",
     "text": [
      "----------------block #0----------------\n",
      "            original_data  filled_data\n",
      "date                                  \n",
      "1983-09-18            4.6         4.60\n",
      "1983-09-19           10.1        10.10\n",
      "1983-09-20           11.0        11.00\n",
      "1983-09-21            6.2         6.20\n",
      "1983-09-22            5.2         5.20\n",
      "1983-09-23            NaN         6.79\n",
      "1983-09-24            5.2         5.20\n",
      "1983-09-25            3.7         3.70\n",
      "1983-09-26            0.9         0.90\n",
      "1983-09-27            7.1         7.10\n",
      "1983-09-28           13.9        13.90\n",
      "\n",
      "----------------block #1----------------\n",
      "            original_data  filled_data\n",
      "date                                  \n",
      "2011-02-01           21.8         21.8\n",
      "2011-02-02           17.0         17.0\n",
      "2011-02-03           17.4         17.4\n",
      "2011-02-04           17.4         17.4\n",
      "2011-02-05            NaN         17.1\n",
      "2011-02-06            NaN         17.1\n",
      "2011-02-07            NaN         17.1\n",
      "2011-02-08            NaN         17.1\n",
      "2011-02-09           10.9         10.9\n",
      "2011-02-10           15.0         15.0\n",
      "2011-02-11           20.2         20.2\n",
      "\n"
     ]
    }
   ],
   "source": [
    "#fill the missing values with the mean of the block data\n",
    "for i in range(0, len(mint_na_subs)):\n",
    "    res = pd.DataFrame();\n",
    "    data = mint_na_subs[i]\n",
    "    filled_data = data.fillna(data.mean())\n",
    "    print('----------------block #{0}----------------'.format(i))\n",
    "    res['original_data'] = data\n",
    "    res['filled_data'] = filled_data\n",
    "    print(res)\n",
    "    print()\n"
   ]
  },
  {
   "cell_type": "code",
   "execution_count": 23,
   "metadata": {},
   "outputs": [
    {
     "name": "stdout",
     "output_type": "stream",
     "text": [
      "----------------block #0----------------\n",
      "            original_data  filled_data\n",
      "date                                  \n",
      "1983-09-18            4.6          4.6\n",
      "1983-09-19           10.1         10.1\n",
      "1983-09-20           11.0         11.0\n",
      "1983-09-21            6.2          6.2\n",
      "1983-09-22            5.2          5.2\n",
      "1983-09-23            NaN          5.7\n",
      "1983-09-24            5.2          5.2\n",
      "1983-09-25            3.7          3.7\n",
      "1983-09-26            0.9          0.9\n",
      "1983-09-27            7.1          7.1\n",
      "1983-09-28           13.9         13.9\n",
      "\n",
      "----------------block #1----------------\n",
      "            original_data  filled_data\n",
      "date                                  \n",
      "2011-02-01           21.8         21.8\n",
      "2011-02-02           17.0         17.0\n",
      "2011-02-03           17.4         17.4\n",
      "2011-02-04           17.4         17.4\n",
      "2011-02-05            NaN         17.4\n",
      "2011-02-06            NaN         17.4\n",
      "2011-02-07            NaN         17.4\n",
      "2011-02-08            NaN         17.4\n",
      "2011-02-09           10.9         10.9\n",
      "2011-02-10           15.0         15.0\n",
      "2011-02-11           20.2         20.2\n",
      "\n"
     ]
    }
   ],
   "source": [
    "#fill the missing values with the median of the block data\n",
    "for i in range(0, len(mint_na_subs)):\n",
    "    res = pd.DataFrame();\n",
    "    data = mint_na_subs[i]\n",
    "    filled_data = data.fillna(data.median())\n",
    "    print('----------------block #{0}----------------'.format(i))\n",
    "    res['original_data'] = data\n",
    "    res['filled_data'] = filled_data\n",
    "    print(res)\n",
    "    print()"
   ]
  },
  {
   "cell_type": "code",
   "execution_count": 24,
   "metadata": {},
   "outputs": [
    {
     "name": "stdout",
     "output_type": "stream",
     "text": [
      "----------------block #0----------------\n",
      "              od  fd_m1  fd_m2  fd_m3  fd_m4  fd_m5\n",
      "date                                               \n",
      "1983-09-18   4.6    4.6    4.6    4.6    4.6    4.6\n",
      "1983-09-19  10.1   10.1   10.1   10.1   10.1   10.1\n",
      "1983-09-20  11.0   11.0   11.0   11.0   11.0   11.0\n",
      "1983-09-21   6.2    6.2    6.2    6.2    6.2    6.2\n",
      "1983-09-22   5.2    5.2    5.2    5.2    5.2    5.2\n",
      "1983-09-23   NaN    5.2    5.2    5.2    5.4    5.2\n",
      "1983-09-24   5.2    5.2    5.2    5.2    5.2    5.2\n",
      "1983-09-25   3.7    3.7    3.7    3.7    3.7    3.7\n",
      "1983-09-26   0.9    0.9    0.9    0.9    0.9    0.9\n",
      "1983-09-27   7.1    7.1    7.1    7.1    7.1    7.1\n",
      "1983-09-28  13.9   13.9   13.9   13.9   13.9   13.9\n",
      "\n",
      "----------------block #1----------------\n",
      "              od  fd_m1  fd_m2  fd_m3  fd_m4  fd_m5\n",
      "date                                               \n",
      "2011-02-01  21.8   21.8   21.8   21.8   21.8   21.8\n",
      "2011-02-02  17.0   17.0   17.0   17.0   17.0   17.0\n",
      "2011-02-03  17.4   17.4   17.4   17.4   17.4   17.4\n",
      "2011-02-04  17.4   17.4   17.4   17.4   17.4   17.4\n",
      "2011-02-05   NaN   16.1   16.1   12.3   16.1   16.1\n",
      "2011-02-06   NaN   14.8   14.8   10.3   13.6   14.8\n",
      "2011-02-07   NaN   13.5   13.5    9.5   10.3   13.5\n",
      "2011-02-08   NaN   12.2   12.2   10.1    9.3   12.2\n",
      "2011-02-09  10.9   10.9   10.9   10.9   10.9   10.9\n",
      "2011-02-10  15.0   15.0   15.0   15.0   15.0   15.0\n",
      "2011-02-11  20.2   20.2   20.2   20.2   20.2   20.2\n",
      "\n"
     ]
    },
    {
     "data": {
      "image/png": "[encoded data removed]",
      "text/plain": [
       "<Figure size 432x288 with 1 Axes>"
      ]
     },
     "metadata": {
      "needs_background": "light"
     },
     "output_type": "display_data"
    },
    {
     "data": {
      "image/png": "[encoded data removed]",
      "text/plain": [
       "<Figure size 432x288 with 1 Axes>"
      ]
     },
     "metadata": {
      "needs_background": "light"
     },
     "output_type": "display_data"
    }
   ],
   "source": [
    "#filling the missing values with interpolation function\n",
    "for i in range(0, len(mint_na_subs)):\n",
    "    res = pd.DataFrame();\n",
    "    data = mint_na_subs[i]\n",
    "    filled_data_0 = data.interpolate()\n",
    "    filled_data_1 = data.interpolate(method = 'time')\n",
    "    filled_data_2 = data.interpolate(method = 'spline', order=2)\n",
    "    filled_data_3 = data.interpolate(method = 'polynomial', order = 2)\n",
    "    filled_data_4 = data.interpolate(limit_direction = 'both')\n",
    "    print('----------------block #{0}----------------'.format(i))\n",
    "    res['od'] = data\n",
    "    res['fd_m1'] = np.round(filled_data_0,1)\n",
    "    res['fd_m2'] = filled_data_1\n",
    "    res['fd_m3'] = np.round(filled_data_2,1)\n",
    "    res['fd_m4'] = np.round(filled_data_3,1)\n",
    "    res['fd_m5'] = filled_data_4\n",
    "    print(res)\n",
    "    print()\n",
    "    fg = plt.figure()\n",
    "    plt.plot(data, 'o', markeredgecolor='black', markerfacecolor=\"None\", markersize=10)\n",
    "    plt.plot(filled_data_0, alpha = 0.6)\n",
    "    plt.plot(filled_data_1, alpha = 0.6)\n",
    "    plt.plot(filled_data_2, alpha = 0.6)\n",
    "    plt.plot(filled_data_3, alpha = 0.6)\n",
    "    plt.plot(filled_data_4, alpha = 0.6)\n",
    "    plt.legend(['od', 'm0', 'm1','m2','m3','m4'])\n",
    "    plt.xlabel('Date')\n",
    "    plt.ylabel(\"Minimum temperature \"r\"$(^oC)$\")\n",
    "    plt.title('block #{0}'.format(i))\n",
    "    "
   ]
  },
  {
   "cell_type": "code",
   "execution_count": 25,
   "metadata": {},
   "outputs": [],
   "source": [
    "#fill missing values based on a reference year\n",
    "na_index_sub_exp = na_index_sub[1]\n"
   ]
  },
  {
   "cell_type": "code",
   "execution_count": 26,
   "metadata": {},
   "outputs": [],
   "source": [
    "#get a block of data that contains null values\n",
    "#start index of the block, changed to timestamp datatype\n",
    "vs_ei = dt.datetime.utcfromtimestamp(\n",
    "    na_index_sub_exp.timestamp() - 3600*24*15)\n",
    "#end index of the block, changed to timestamp datatype\n",
    "ve_ei = dt.datetime.utcfromtimestamp(\n",
    "    na_index_sub_exp.timestamp() + 3600*24*15)\n",
    "#min temperature in the range\n",
    "data = temp_min.mint[vs_ei:ve_ei]"
   ]
  },
  {
   "cell_type": "code",
   "execution_count": 27,
   "metadata": {},
   "outputs": [],
   "source": [
    "#get a block of data from a reference year with the same time periods\n",
    "syear = 2010\n",
    "eyear = 2010\n",
    "smonth = data.index[0].month\n",
    "sday = data.index[0].day\n",
    "emonth = data.index[-1].month\n",
    "eday = data.index[-1].day\n",
    "s_ei = dt.datetime(syear, smonth, sday)\n",
    "e_ei = dt.datetime(eyear, emonth, eday)\n",
    "ref_data = temp_min.mint[s_ei:e_ei]"
   ]
  },
  {
   "cell_type": "code",
   "execution_count": 28,
   "metadata": {},
   "outputs": [
    {
     "data": {
      "image/png": "[encoded data removed]",
      "text/plain": [
       "<Figure size 864x432 with 2 Axes>"
      ]
     },
     "metadata": {
      "needs_background": "light"
     },
     "output_type": "display_data"
    }
   ],
   "source": [
    "#have a look at the data from different source\n",
    "fg = plt.figure(figsize = (12,6))\n",
    "plt.subplot(2,1,1)\n",
    "plt.plot(ref_data)\n",
    "plt.xlabel('Date')\n",
    "plt.ylabel(\"Minimum temperature \"r\"$(^oC)$\")\n",
    "plt.title('Minimum temperature in reference year')\n",
    "\n",
    "plt.subplot(2,1,2)\n",
    "plt.plot(data)\n",
    "plt.xlabel('Date')\n",
    "plt.ylabel(\"Minimum temperature \"r\"$(^oC)$\")\n",
    "plt.title('Minimum temperature in current year')\n",
    "\n",
    "plt.subplots_adjust(hspace=0.4)"
   ]
  },
  {
   "cell_type": "code",
   "execution_count": 29,
   "metadata": {},
   "outputs": [],
   "source": [
    "#combine the data from both years\n",
    "comb_data = pd.DataFrame({\"ref\":ref_data.values, \"cur\":data.values})"
   ]
  },
  {
   "cell_type": "code",
   "execution_count": 30,
   "metadata": {},
   "outputs": [
    {
     "data": {
      "text/html": [
       "<div>\n",
       "<style scoped>\n",
       "    .dataframe tbody tr th:only-of-type {\n",
       "        vertical-align: middle;\n",
       "    }\n",
       "\n",
       "    .dataframe tbody tr th {\n",
       "        vertical-align: top;\n",
       "    }\n",
       "\n",
       "    .dataframe thead th {\n",
       "        text-align: right;\n",
       "    }\n",
       "</style>\n",
       "<table border=\"1\" class=\"dataframe\">\n",
       "  <thead>\n",
       "    <tr style=\"text-align: right;\">\n",
       "      <th></th>\n",
       "      <th>ref</th>\n",
       "      <th>cur</th>\n",
       "    </tr>\n",
       "  </thead>\n",
       "  <tbody>\n",
       "    <tr>\n",
       "      <th>0</th>\n",
       "      <td>18.6</td>\n",
       "      <td>15.5</td>\n",
       "    </tr>\n",
       "    <tr>\n",
       "      <th>1</th>\n",
       "      <td>16.3</td>\n",
       "      <td>18.1</td>\n",
       "    </tr>\n",
       "    <tr>\n",
       "      <th>2</th>\n",
       "      <td>13.6</td>\n",
       "      <td>14.6</td>\n",
       "    </tr>\n",
       "    <tr>\n",
       "      <th>3</th>\n",
       "      <td>15.5</td>\n",
       "      <td>12.2</td>\n",
       "    </tr>\n",
       "    <tr>\n",
       "      <th>4</th>\n",
       "      <td>10.3</td>\n",
       "      <td>15.7</td>\n",
       "    </tr>\n",
       "    <tr>\n",
       "      <th>5</th>\n",
       "      <td>16.1</td>\n",
       "      <td>11.3</td>\n",
       "    </tr>\n",
       "    <tr>\n",
       "      <th>6</th>\n",
       "      <td>12.9</td>\n",
       "      <td>12.2</td>\n",
       "    </tr>\n",
       "    <tr>\n",
       "      <th>7</th>\n",
       "      <td>17.1</td>\n",
       "      <td>9.8</td>\n",
       "    </tr>\n",
       "    <tr>\n",
       "      <th>8</th>\n",
       "      <td>11.0</td>\n",
       "      <td>15.8</td>\n",
       "    </tr>\n",
       "    <tr>\n",
       "      <th>9</th>\n",
       "      <td>16.9</td>\n",
       "      <td>16.1</td>\n",
       "    </tr>\n",
       "  </tbody>\n",
       "</table>\n",
       "</div>"
      ],
      "text/plain": [
       "    ref   cur\n",
       "0  18.6  15.5\n",
       "1  16.3  18.1\n",
       "2  13.6  14.6\n",
       "3  15.5  12.2\n",
       "4  10.3  15.7\n",
       "5  16.1  11.3\n",
       "6  12.9  12.2\n",
       "7  17.1   9.8\n",
       "8  11.0  15.8\n",
       "9  16.9  16.1"
      ]
     },
     "execution_count": 30,
     "metadata": {},
     "output_type": "execute_result"
    }
   ],
   "source": [
    "#a short view of the data\n",
    "comb_data.head(10)"
   ]
  },
  {
   "cell_type": "code",
   "execution_count": 31,
   "metadata": {},
   "outputs": [
    {
     "data": {
      "text/html": [
       "<div>\n",
       "<style scoped>\n",
       "    .dataframe tbody tr th:only-of-type {\n",
       "        vertical-align: middle;\n",
       "    }\n",
       "\n",
       "    .dataframe tbody tr th {\n",
       "        vertical-align: top;\n",
       "    }\n",
       "\n",
       "    .dataframe thead th {\n",
       "        text-align: right;\n",
       "    }\n",
       "</style>\n",
       "<table border=\"1\" class=\"dataframe\">\n",
       "  <thead>\n",
       "    <tr style=\"text-align: right;\">\n",
       "      <th></th>\n",
       "      <th>ref</th>\n",
       "      <th>cur</th>\n",
       "    </tr>\n",
       "  </thead>\n",
       "  <tbody>\n",
       "    <tr>\n",
       "      <th>count</th>\n",
       "      <td>31.000000</td>\n",
       "      <td>27.000000</td>\n",
       "    </tr>\n",
       "    <tr>\n",
       "      <th>mean</th>\n",
       "      <td>16.480645</td>\n",
       "      <td>15.174074</td>\n",
       "    </tr>\n",
       "    <tr>\n",
       "      <th>std</th>\n",
       "      <td>2.839181</td>\n",
       "      <td>3.283243</td>\n",
       "    </tr>\n",
       "    <tr>\n",
       "      <th>min</th>\n",
       "      <td>10.300000</td>\n",
       "      <td>9.400000</td>\n",
       "    </tr>\n",
       "    <tr>\n",
       "      <th>25%</th>\n",
       "      <td>15.250000</td>\n",
       "      <td>13.000000</td>\n",
       "    </tr>\n",
       "    <tr>\n",
       "      <th>50%</th>\n",
       "      <td>16.900000</td>\n",
       "      <td>15.500000</td>\n",
       "    </tr>\n",
       "    <tr>\n",
       "      <th>75%</th>\n",
       "      <td>18.050000</td>\n",
       "      <td>17.400000</td>\n",
       "    </tr>\n",
       "    <tr>\n",
       "      <th>max</th>\n",
       "      <td>22.400000</td>\n",
       "      <td>21.800000</td>\n",
       "    </tr>\n",
       "  </tbody>\n",
       "</table>\n",
       "</div>"
      ],
      "text/plain": [
       "             ref        cur\n",
       "count  31.000000  27.000000\n",
       "mean   16.480645  15.174074\n",
       "std     2.839181   3.283243\n",
       "min    10.300000   9.400000\n",
       "25%    15.250000  13.000000\n",
       "50%    16.900000  15.500000\n",
       "75%    18.050000  17.400000\n",
       "max    22.400000  21.800000"
      ]
     },
     "execution_count": 31,
     "metadata": {},
     "output_type": "execute_result"
    }
   ],
   "source": [
    "#descriptive statistic of the data\n",
    "comb_data.describe()"
   ]
  },
  {
   "cell_type": "code",
   "execution_count": 32,
   "metadata": {},
   "outputs": [
    {
     "name": "stdout",
     "output_type": "stream",
     "text": [
      "Mean ratio is 1.167\n"
     ]
    },
    {
     "data": {
      "text/plain": [
       "<matplotlib.legend.Legend at 0xb1f109710>"
      ]
     },
     "execution_count": 32,
     "metadata": {},
     "output_type": "execute_result"
    },
    {
     "data": {
      "image/png": "[encoded data removed]",
      "text/plain": [
       "<Figure size 432x288 with 1 Axes>"
      ]
     },
     "metadata": {
      "needs_background": "light"
     },
     "output_type": "display_data"
    },
    {
     "data": {
      "image/png": "[encoded data removed]",
      "text/plain": [
       "<Figure size 432x288 with 1 Axes>"
      ]
     },
     "metadata": {
      "needs_background": "light"
     },
     "output_type": "display_data"
    }
   ],
   "source": [
    "#filling the missing values based on the mean ratio of ref and cur\n",
    "#get the ratios\n",
    "ratios = comb_data['ref']/comb_data['cur']\n",
    "\n",
    "#plot the ratios\n",
    "fg = plt.figure()\n",
    "plt.plot(ratios)\n",
    "plt.ylabel('Ratio of Ref/Cur')\n",
    "\n",
    "#calculate mean ratios\n",
    "mratio = ratios.mean()\n",
    "print('Mean ratio is {0:.3f}'.format(mratio))\n",
    "\n",
    "#filling the missing values with the products of mean ratio and corresponding values in reference year\n",
    "filled_data = data.where(pd.notna(data), comb_data.ref.values/mratio)\n",
    "\n",
    "#compare the original data and filled data\n",
    "fg = plt.figure()\n",
    "plt.plot(data.values, 'ro')\n",
    "plt.plot(ref_data.values,'g*')\n",
    "plt.plot(filled_data.values)\n",
    "plt.ylabel(\"Minimum temperature \"r\"$(^oC)$\")\n",
    "plt.legend(['od', 'ref', 'filled'])"
   ]
  },
  {
   "cell_type": "code",
   "execution_count": 33,
   "metadata": {},
   "outputs": [],
   "source": [
    "new_data = pd.DataFrame({\"original\": data, \"filled\":filled_data})"
   ]
  },
  {
   "cell_type": "code",
   "execution_count": 34,
   "metadata": {},
   "outputs": [
    {
     "name": "stdout",
     "output_type": "stream",
     "text": [
      "            original     filled\n",
      "date                           \n",
      "2011-02-01      21.8  21.800000\n",
      "2011-02-02      17.0  17.000000\n",
      "2011-02-03      17.4  17.400000\n",
      "2011-02-04      17.4  17.400000\n",
      "2011-02-05       NaN  14.314962\n",
      "2011-02-06       NaN  13.629216\n",
      "2011-02-07       NaN   9.686172\n",
      "2011-02-08       NaN  12.857751\n",
      "2011-02-09      10.9  10.900000\n",
      "2011-02-10      15.0  15.000000\n"
     ]
    }
   ],
   "source": [
    "print(new_data.iloc[10:20,:])"
   ]
  },
  {
   "cell_type": "code",
   "execution_count": null,
   "metadata": {},
   "outputs": [],
   "source": []
  }
 ],
 "metadata": {
  "kernelspec": {
   "display_name": "Python 3",
   "language": "python",
   "name": "python3"
  },
  "language_info": {
   "codemirror_mode": {
    "name": "ipython",
    "version": 3
   },
   "file_extension": ".py",
   "mimetype": "text/x-python",
   "name": "python",
   "nbconvert_exporter": "python",
   "pygments_lexer": "ipython3",
   "version": "3.7.3"
  }
 },
 "nbformat": 4,
 "nbformat_minor": 2
}
